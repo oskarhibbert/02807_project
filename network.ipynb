{
 "cells": [
  {
   "cell_type": "markdown",
   "metadata": {},
   "source": [
    "# Network Analysis"
   ]
  },
  {
   "cell_type": "code",
   "execution_count": 7,
   "metadata": {},
   "outputs": [],
   "source": [
    "# Import necessary libraries and modules\n",
    "import cartopy.crs as ccrs\n",
    "import cartopy.feature as cfeature\n",
    "import matplotlib.pyplot as plt\n",
    "from matplotlib.lines import Line2D\n",
    "import networkx as nx\n",
    "from networkx.algorithms import community as nx_community\n",
    "import numpy as np\n",
    "import pandas as pd"
   ]
  },
  {
   "cell_type": "code",
   "execution_count": 8,
   "metadata": {},
   "outputs": [],
   "source": [
    "# Import necessary datasets\n",
    "flights_weather_df = pd.read_csv('flights_weather_df.csv')  # Flights and weather dataset\n",
    "airports_df_ext = pd.read_csv('df2.csv')  # Airport information dataset"
   ]
  },
  {
   "cell_type": "markdown",
   "metadata": {},
   "source": [
    "---"
   ]
  },
  {
   "cell_type": "code",
   "execution_count": null,
   "metadata": {},
   "outputs": [],
   "source": [
    "# Create new dataframe\n",
    "airpods_df = pd.DataFrame({'airport': pd.concat([df['origin_airport'], df['destination_airport']]).unique()})"
   ]
  },
  {
   "cell_type": "code",
   "execution_count": null,
   "metadata": {},
   "outputs": [],
   "source": [
    "# Confirm all airports in \n",
    "all([airport in df2['iata_code'].values for airport in airports_df['airport']])"
   ]
  },
  {
   "cell_type": "code",
   "execution_count": null,
   "metadata": {},
   "outputs": [],
   "source": [
    "df2 = df2[df2['iata_code'].isin(airports_df['airport'])]"
   ]
  },
  {
   "cell_type": "code",
   "execution_count": null,
   "metadata": {},
   "outputs": [],
   "source": [
    "df2"
   ]
  },
  {
   "cell_type": "code",
   "execution_count": null,
   "metadata": {},
   "outputs": [],
   "source": [
    "airports_coords = {}\n",
    "\n",
    "for _, row in df2.iterrows():\n",
    "    airport = row['iata_code']\n",
    "    coords = row['coordinates']\n",
    "    longitude, latitude = map(float, coords.split(', '))\n",
    "    airports_coords[airport] = {'longitude': longitude, 'latitude': latitude}"
   ]
  },
  {
   "cell_type": "code",
   "execution_count": null,
   "metadata": {},
   "outputs": [],
   "source": [
    "plt.figure(figsize=(20, 10), dpi=200)\n",
    "ax = plt.axes(projection=ccrs.PlateCarree())\n",
    "\n",
    "edgecolor = 'lightgrey'\n",
    "\n",
    "ax.set_extent([-125.8, -66.5, 23.1, 46.9])  # W, E, S, N\n",
    "ax.add_feature(cfeature.LAND, alpha=0.75)\n",
    "ax.add_feature(cfeature.OCEAN, alpha=0.5)\n",
    "ax.add_feature(cfeature.LAKES, facecolor='white')\n",
    "ax.add_feature(cfeature.LAKES, alpha=0.5)\n",
    "ax.add_feature(cfeature.COASTLINE, edgecolor=edgecolor)\n",
    "ax.add_feature(cfeature.BORDERS, edgecolor=edgecolor)\n",
    "ax.add_feature(cfeature.STATES, edgecolor=edgecolor)\n",
    "\n",
    "for airport, coords in airports_coords.items():\n",
    "    degree = G.degree(airport)\n",
    "    ax.plot(coords['longitude'], coords['latitude'], marker='o', color='royalblue', markersize=degree * 0.2, alpha=0.5)\n",
    "\n",
    "plt.tight_layout()\n",
    "plt.show()"
   ]
  },
  {
   "cell_type": "markdown",
   "metadata": {},
   "source": [
    "---"
   ]
  },
  {
   "cell_type": "code",
   "execution_count": null,
   "metadata": {},
   "outputs": [],
   "source": [
    "# Create empty graph\n",
    "G = nx.DiGraph()"
   ]
  },
  {
   "cell_type": "code",
   "execution_count": null,
   "metadata": {},
   "outputs": [],
   "source": [
    "# Add nodes to graph, one for each unique airport in dataset\n",
    "for airport in airports_df['airport']:\n",
    "    G.add_node(airport)"
   ]
  },
  {
   "cell_type": "code",
   "execution_count": null,
   "metadata": {},
   "outputs": [],
   "source": [
    "# Add edges to graph, one for each recorded flight in dataset\n",
    "for _, row in df.iterrows():\n",
    "    if G.has_edge(row['origin_airport'], row['destination_airport']):\n",
    "        G[row['origin_airport']][row['destination_airport']]['weight'] += 1\n",
    "    else:\n",
    "        G.add_edge(row['origin_airport'], row['destination_airport'], weight=1)"
   ]
  },
  {
   "cell_type": "markdown",
   "metadata": {},
   "source": [
    "---"
   ]
  },
  {
   "cell_type": "code",
   "execution_count": null,
   "metadata": {},
   "outputs": [],
   "source": [
    "G.number_of_nodes()"
   ]
  },
  {
   "cell_type": "code",
   "execution_count": null,
   "metadata": {},
   "outputs": [],
   "source": [
    "G.number_of_edges()"
   ]
  },
  {
   "cell_type": "code",
   "execution_count": null,
   "metadata": {},
   "outputs": [],
   "source": [
    "sum(data['weight'] for _, _, data in G.edges(data=True))"
   ]
  },
  {
   "cell_type": "code",
   "execution_count": null,
   "metadata": {},
   "outputs": [],
   "source": [
    "nx.average_clustering(G)  # 0.57 ndicates a moderate tendency to form local clusters or subgroups"
   ]
  },
  {
   "cell_type": "code",
   "execution_count": null,
   "metadata": {},
   "outputs": [],
   "source": [
    "nx.density(G)  # 0.049 indicates a relatively sparse graph, as is typical for transportation networks"
   ]
  },
  {
   "cell_type": "code",
   "execution_count": null,
   "metadata": {},
   "outputs": [],
   "source": []
  },
  {
   "cell_type": "code",
   "execution_count": null,
   "metadata": {},
   "outputs": [],
   "source": [
    "betweenness_centrality = nx.betweenness_centrality(G, weight='weight')\n",
    "\n",
    "sorted(betweenness_centrality.items(), key=lambda item: item[1], reverse=True)[:10]  # These airports appear on many of the shortest paths between pairs of airports."
   ]
  },
  {
   "cell_type": "code",
   "execution_count": null,
   "metadata": {},
   "outputs": [],
   "source": [
    "# Rank airports by degree and weighted degree\n",
    "degree_ranking = sorted(G, key=G.degree, reverse=True)\n",
    "Weighted_degree_ranking = sorted(G, key=lambda n: G.degree(n, weight='weight'), reverse=True)\n",
    "\n",
    "# Compile top 5 airports by betweenness centrality with their rankings\n",
    "{\n",
    "    airport: {\n",
    "        \"betweenness_centrality\": f\"{betweenness_centrality[airport]}\",\n",
    "        \"degree\": f\"{G.degree(airport)} ({degree_ranking.index(airport) + 1}th)\",\n",
    "        \"weighted_degree\": f\"{G.degree(airport, weight='weight')} ({Weighted_degree_ranking.index(airport) + 1}th)\"\n",
    "    }\n",
    "\n",
    "    for airport in sorted(betweenness_centrality.keys(), key=lambda ap: betweenness_centrality[ap], reverse=True)[:5]\n",
    "\n",
    "}"
   ]
  },
  {
   "cell_type": "markdown",
   "metadata": {},
   "source": [
    "---"
   ]
  },
  {
   "cell_type": "code",
   "execution_count": null,
   "metadata": {},
   "outputs": [],
   "source": [
    "communities = nx.community.greedy_modularity_communities(G, weight='weight', best_n=4)"
   ]
  },
  {
   "cell_type": "code",
   "execution_count": null,
   "metadata": {},
   "outputs": [],
   "source": [
    "[len(community) for community in communities]"
   ]
  },
  {
   "cell_type": "code",
   "execution_count": null,
   "metadata": {},
   "outputs": [],
   "source": [
    "plt.figure(figsize=(20, 10), dpi=200)\n",
    "ax = plt.axes(projection=ccrs.PlateCarree())\n",
    "\n",
    "ax.set_extent([-125.8, -66.5, 23.1, 46.9])  # W, E, S, N\n",
    "ax.add_feature(cfeature.LAND, alpha=0.75)\n",
    "ax.add_feature(cfeature.OCEAN, alpha=0.5)\n",
    "ax.add_feature(cfeature.LAKES, facecolor='white')\n",
    "ax.add_feature(cfeature.LAKES, alpha=0.5)\n",
    "ax.add_feature(cfeature.COASTLINE, edgecolor=edgecolor)\n",
    "ax.add_feature(cfeature.BORDERS, edgecolor=edgecolor)\n",
    "ax.add_feature(cfeature.STATES, edgecolor=edgecolor)\n",
    "\n",
    "color_palette = plt.cm.Set1\n",
    "\n",
    "for index, community in enumerate(communities):\n",
    "    for airport in community:\n",
    "        coords = airports_coords[airport]\n",
    "        color = color_palette(index)\n",
    "        ax.plot(coords['longitude'], coords['latitude'], marker='o', \n",
    "                color=color, markersize=10, alpha=0.8)\n",
    "\n",
    "legend_handles = [plt.Line2D([0], [0], marker='o', color='w', label=f'Community {i + 1}',\n",
    "                             markersize=10, alpha=0.8, \n",
    "                             markerfacecolor=color_palette(i)) for i in range(len(communities))]\n",
    "\n",
    "ax.legend(handles=legend_handles, loc='lower left')\n",
    "\n",
    "plt.tight_layout()\n",
    "plt.show()"
   ]
  },
  {
   "cell_type": "code",
   "execution_count": null,
   "metadata": {},
   "outputs": [],
   "source": [
    "nx_community.modularity(G, communities, weight='weight')"
   ]
  },
  {
   "cell_type": "markdown",
   "metadata": {},
   "source": [
    "---"
   ]
  },
  {
   "cell_type": "code",
   "execution_count": null,
   "metadata": {},
   "outputs": [],
   "source": [
    "avg_departure_delays = df.groupby('origin_airport')['departure_delay'].mean().to_dict()\n",
    "avg_arrival_delays = df.groupby('destination_airport')['arrival_delay'].mean().to_dict()"
   ]
  },
  {
   "cell_type": "code",
   "execution_count": null,
   "metadata": {},
   "outputs": [],
   "source": [
    "for airport in G.nodes():\n",
    "    G.nodes[airport]['avg_departure_delay'] = avg_departure_delays[airport]\n",
    "    G.nodes[airport]['avg_arrival_delay'] = avg_arrival_delays[airport]"
   ]
  },
  {
   "cell_type": "code",
   "execution_count": null,
   "metadata": {},
   "outputs": [],
   "source": [
    "degrees = [G.degree(airport) for airport in G.nodes()]\n",
    "avg_departure_delays = [G.nodes[airport]['avg_departure_delay'] for airport in G.nodes()]\n",
    "avg_arrival_delays = [G.nodes[airport]['avg_arrival_delay'] for airport in G.nodes()]\n",
    "\n",
    "departure_corr = np.corrcoef(degrees, avg_departure_delays)[0][1]\n",
    "arrival_corr = np.corrcoef(degrees, avg_arrival_delays)[0][1]\n",
    "\n",
    "fig, axs = plt.subplots(1, 2, figsize=(12, 6), dpi=200)\n",
    "\n",
    "axs[0].scatter(degrees, avg_departure_delays, alpha=0.5)\n",
    "axs[0].set_xlabel('Airport Size (Degrees)')\n",
    "axs[0].set_ylabel('Average Departure Delays (Minutes)')\n",
    "legend_handle = [Line2D([0], [0], marker='', color='w', label=f'Correlation Coefficient: {round(departure_corr, 2)}')]\n",
    "axs[0].legend(handles=legend_handle, handlelength=0, handletextpad=0, loc='upper right')\n",
    "axs[0].grid(True, color='lightgrey', linewidth=0.5, zorder=0)\n",
    "axs[0].set_axisbelow(True)\n",
    "\n",
    "axs[1].scatter(degrees, avg_arrival_delays, alpha=0.5)\n",
    "axs[1].set_xlabel('Airport Size (Degrees)')\n",
    "axs[1].set_ylabel('Average Arrival Delay (Minutes)')\n",
    "legend_handle = [Line2D([0], [0], marker='', color='w', label=f'Correlation Coefficient: {round(arrival_corr, 2)}')]\n",
    "axs[1].legend(handles=legend_handle, handlelength=0, handletextpad=0, loc='upper right')\n",
    "axs[1].grid(True, color='lightgrey', linewidth=0.5, zorder=0)\n",
    "axs[1].set_axisbelow(True)\n",
    "\n",
    "plt.tight_layout()\n",
    "plt.show()"
   ]
  },
  {
   "cell_type": "code",
   "execution_count": null,
   "metadata": {},
   "outputs": [],
   "source": [
    "community_avg_delays = {\n",
    "    'community_index': [i + 1 for i in range(len(communities))],  # Community numbering starting from 1\n",
    "    'avg_departure_delay': [np.mean([G.nodes[airport]['avg_departure_delay'] for airport in community if 'avg_departure_delay' in G.nodes[airport]]) for community in communities],\n",
    "    'avg_arrival_delay': [np.mean([G.nodes[airport]['avg_arrival_delay'] for airport in community if 'avg_arrival_delay' in G.nodes[airport]]) for community in communities]\n",
    "}\n",
    "\n",
    "bar_positions = np.arange(len(communities))\n",
    "bar_width = 0.35\n",
    "\n",
    "fig, ax = plt.subplots(figsize=(12, 6), dpi=200)\n",
    "\n",
    "ax.bar(bar_positions - bar_width/2, community_avg_delays['avg_departure_delay'], bar_width, label='Avg Departure Delay')\n",
    "ax.bar(bar_positions + bar_width/2, community_avg_delays['avg_arrival_delay'], bar_width, label='Avg Arrival Delay')\n",
    "ax.set_ylabel('Average Delay (minutes)')\n",
    "ax.set_xticks(bar_positions)\n",
    "ax.set_xticklabels([f\"Community {i}\" for i in community_avg_delays['community_index']])\n",
    "ax.legend(loc='upper right')\n",
    "\n",
    "plt.tight_layout()\n",
    "plt.show()"
   ]
  },
  {
   "cell_type": "code",
   "execution_count": null,
   "metadata": {},
   "outputs": [],
   "source": [
    "import pandas as pd\n",
    "import matplotlib.pyplot as plt\n",
    "\n",
    "# Assuming 'df' is a predefined DataFrame with the necessary data\n",
    "\n",
    "df['scheduled_departure_dt'] = pd.to_datetime(df['scheduled_departure_dt'])\n",
    "\n",
    "# Group by month and calculate the average delays\n",
    "monthly_delays = df.groupby(pd.Grouper(key='scheduled_departure_dt', freq='M')).agg({\n",
    "    'departure_delay': 'mean',\n",
    "    'arrival_delay': 'mean'\n",
    "}).reset_index()\n",
    "\n",
    "# Create the figure and axes\n",
    "fig, ax = plt.subplots(figsize=(12, 6), dpi=200)\n",
    "\n",
    "# Plot the data using the axes object\n",
    "ax.plot(monthly_delays['scheduled_departure_dt'], monthly_delays['departure_delay'], label='Average Departure Delay')\n",
    "ax.plot(monthly_delays['scheduled_departure_dt'], monthly_delays['arrival_delay'], label='Average Arrival Delay')\n",
    "\n",
    "# Set the title and labels using the axes object\n",
    "ax.set_ylabel('Average Delay (minutes)')\n",
    "\n",
    "# Display the legend\n",
    "ax.legend(loc='upper right')\n",
    "\n",
    "plt.tight_layout()\n",
    "plt.show()"
   ]
  }
 ],
 "metadata": {
  "kernelspec": {
   "display_name": "base",
   "language": "python",
   "name": "python3"
  },
  "language_info": {
   "codemirror_mode": {
    "name": "ipython",
    "version": 3
   },
   "file_extension": ".py",
   "mimetype": "text/x-python",
   "name": "python",
   "nbconvert_exporter": "python",
   "pygments_lexer": "ipython3",
   "version": "3.11.5"
  }
 },
 "nbformat": 4,
 "nbformat_minor": 2
}
